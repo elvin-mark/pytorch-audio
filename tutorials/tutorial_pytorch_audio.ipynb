{
  "nbformat": 4,
  "nbformat_minor": 0,
  "metadata": {
    "colab": {
      "name": "tutorial_pytorch_audio.ipynb",
      "provenance": [],
      "collapsed_sections": []
    },
    "kernelspec": {
      "name": "python3",
      "display_name": "Python 3"
    },
    "language_info": {
      "name": "python"
    },
    "accelerator": "GPU"
  },
  "cells": [
    {
      "cell_type": "code",
      "execution_count": 1,
      "metadata": {
        "colab": {
          "base_uri": "https://localhost:8080/"
        },
        "id": "9SVwyT_7UkTM",
        "outputId": "c715ae90-ea3a-4648-92c3-780e1fdf6ef9"
      },
      "outputs": [
        {
          "output_type": "stream",
          "name": "stdout",
          "text": [
            "Cloning into 'pytorch-audio'...\n",
            "remote: Enumerating objects: 151, done.\u001b[K\n",
            "remote: Counting objects: 100% (151/151), done.\u001b[K\n",
            "remote: Compressing objects: 100% (122/122), done.\u001b[K\n",
            "remote: Total 151 (delta 22), reused 146 (delta 20), pack-reused 0\u001b[K\n",
            "Receiving objects: 100% (151/151), 614.80 KiB | 5.69 MiB/s, done.\n",
            "Resolving deltas: 100% (22/22), done.\n"
          ]
        }
      ],
      "source": [
        "!git clone https://github.com/elvin-mark/pytorch-audio.git"
      ]
    },
    {
      "cell_type": "code",
      "source": [
        "%cd pytorch-audio"
      ],
      "metadata": {
        "colab": {
          "base_uri": "https://localhost:8080/"
        },
        "id": "QsZMdDaAUrY7",
        "outputId": "b5a1eb48-f90d-4d65-bc38-ac8b2eae7e5f"
      },
      "execution_count": 2,
      "outputs": [
        {
          "output_type": "stream",
          "name": "stdout",
          "text": [
            "/content/pytorch-audio\n"
          ]
        }
      ]
    },
    {
      "cell_type": "code",
      "source": [
        "import os"
      ],
      "metadata": {
        "id": "LABl6VhiUtKc"
      },
      "execution_count": 3,
      "outputs": []
    },
    {
      "cell_type": "code",
      "source": [
        "os.environ[\"URL\"] = \"https://8979-131-112-127-86.ngrok.io/\""
      ],
      "metadata": {
        "id": "idqFObnLUvGc"
      },
      "execution_count": 12,
      "outputs": []
    },
    {
      "cell_type": "code",
      "source": [
        "!mkdir data"
      ],
      "metadata": {
        "id": "L9t-RIFIU6bI"
      },
      "execution_count": 5,
      "outputs": []
    },
    {
      "cell_type": "code",
      "source": [
        "!python3 train.py --help"
      ],
      "metadata": {
        "colab": {
          "base_uri": "https://localhost:8080/"
        },
        "id": "7JEN0W-iWhDx",
        "outputId": "570ff81b-4aa9-4ce0-e085-cbb4220f40aa"
      },
      "execution_count": 25,
      "outputs": [
        {
          "output_type": "stream",
          "name": "stdout",
          "text": [
            "usage: train.py [-h] [--dataset {gtzan,speechcommands,spokendigits}]\n",
            "                [--audio-length AUDIO_LENGTH] [--root ROOT]\n",
            "                [--num-classes NUM_CLASSES]\n",
            "                [--model {simple_general_cnn,simple_general_resnet}]\n",
            "                [--batch-size BATCH_SIZE] [--gpu] [--optim OPTIM] [--lr LR]\n",
            "                [--epochs EPOCHS] [--logging] [--no-logging] [--save-model]\n",
            "                [--csv] [--dashboard] [--port PORT] [--checkpoint CHECKPOINT]\n",
            "                [--samples] [--url URL] [--start-model START_MODEL]\n",
            "                [--save-labels] [--customize] [--sched {none,step}]\n",
            "                [--step-size STEP_SIZE] [--gamma GAMMA] [--split-dataset]\n",
            "                [--train-size TRAIN_SIZE]\n",
            "\n",
            "Simple Trainer for speech recognition models\n",
            "\n",
            "optional arguments:\n",
            "  -h, --help            show this help message and exit\n",
            "  --dataset {gtzan,speechcommands,spokendigits}\n",
            "                        Dataset to be used\n",
            "  --audio-length AUDIO_LENGTH\n",
            "                        Length of the audio\n",
            "  --root ROOT           Root folder for audio files\n",
            "  --num-classes NUM_CLASSES\n",
            "                        Number of classes\n",
            "  --model {simple_general_cnn,simple_general_resnet}\n",
            "                        Model to be trained\n",
            "  --batch-size BATCH_SIZE\n",
            "                        Batch size to be used in the DataLoaders\n",
            "  --gpu                 Train using GPU\n",
            "  --optim OPTIM         Optimzer to be used\n",
            "  --lr LR               Learning rate\n",
            "  --epochs EPOCHS       Number of epochs\n",
            "  --logging             Logging training process\n",
            "  --no-logging          No Logging during training\n",
            "  --save-model          Save trained model\n",
            "  --csv                 Make a csv file recording the training process\n",
            "  --dashboard           Visualize training process in a dashboard\n",
            "  --port PORT           Port of the dashboard server\n",
            "  --checkpoint CHECKPOINT\n",
            "                        Checkpoint frequency\n",
            "  --samples             show some sample images in the dashboard\n",
            "  --url URL             Specify a customize URL for the dashboard\n",
            "  --start-model START_MODEL\n",
            "                        Initial checkpoint for training\n",
            "  --save-labels         Save the labels to map the classes\n",
            "  --customize           Customize models and datasets\n",
            "  --sched {none,step}   Schedule for learning rate\n",
            "  --step-size STEP_SIZE\n",
            "                        Step size for learning rate\n",
            "  --gamma GAMMA         Gamma for learning rate\n",
            "  --split-dataset       split the images in the root folder into train and\n",
            "                        test datset\n",
            "  --train-size TRAIN_SIZE\n",
            "                        train size scale when splitting the dataset into train\n",
            "                        and test dataset\n"
          ]
        }
      ]
    },
    {
      "cell_type": "code",
      "source": [
        "!python3 train.py --dataset spokendigits --epochs 10 --gpu --num-classes 10 --audio-length 16000 --dashboard --samples --url $URL \\\n",
        " --model simple_general_resnet"
      ],
      "metadata": {
        "colab": {
          "base_uri": "https://localhost:8080/"
        },
        "id": "4sX90OHpU8kW",
        "outputId": "b0504690-6089-4cac-9f84-74312b046945"
      },
      "execution_count": 31,
      "outputs": [
        {
          "output_type": "stream",
          "name": "stdout",
          "text": [
            "Using GPU for training\n",
            "./data/spokendigits.tar.gz ./data/free-spoken-digit-dataset-1.0.9\n",
            "file already downloaded!\n",
            "file verified!\n",
            "Preparing Dashboard Logger\n",
            "Start Training ...\n",
            "  0% 0/10 [00:00<?, ?it/s]epoch: 0, train_loss: 2.94063761499193, train_acc: 29.70%, test_loss: 1.6914240196347237, test_acc: 38.20%\n",
            " 10% 1/10 [00:01<00:13,  1.51s/it]epoch: 1, train_loss: 1.2259474027724493, train_acc: 54.45%, test_loss: 2.2487664967775345, test_acc: 36.00%\n",
            " 20% 2/10 [00:02<00:11,  1.44s/it]epoch: 2, train_loss: 0.9146479424976167, train_acc: 67.20%, test_loss: 0.9749222099781036, test_acc: 63.80%\n",
            " 30% 3/10 [00:04<00:09,  1.42s/it]epoch: 3, train_loss: 0.6336558598374563, train_acc: 75.90%, test_loss: 3.129137471318245, test_acc: 50.80%\n",
            " 40% 4/10 [00:05<00:08,  1.41s/it]epoch: 4, train_loss: 0.553641731540362, train_acc: 81.10%, test_loss: 0.43555883318185806, test_acc: 86.20%\n",
            " 50% 5/10 [00:07<00:07,  1.40s/it]epoch: 5, train_loss: 0.3899068307308924, train_acc: 86.40%, test_loss: 0.46787052415311337, test_acc: 86.00%\n",
            " 60% 6/10 [00:08<00:05,  1.40s/it]epoch: 6, train_loss: 0.3275936568185451, train_acc: 88.80%, test_loss: 0.48625131882727146, test_acc: 83.20%\n",
            " 70% 7/10 [00:09<00:04,  1.40s/it]epoch: 7, train_loss: 0.20326156831449932, train_acc: 93.00%, test_loss: 0.46647539222612977, test_acc: 83.40%\n",
            " 80% 8/10 [00:11<00:02,  1.41s/it]epoch: 8, train_loss: 0.18512057161165607, train_acc: 93.90%, test_loss: 0.34426196571439505, test_acc: 88.80%\n",
            " 90% 9/10 [00:12<00:01,  1.41s/it]epoch: 9, train_loss: 0.12080223660265642, train_acc: 96.20%, test_loss: 0.1993865806143731, test_acc: 93.20%\n",
            "100% 10/10 [00:14<00:00,  1.41s/it]\n",
            "Generating Sample Images Test\n"
          ]
        }
      ]
    },
    {
      "cell_type": "code",
      "source": [
        "!python3 train.py --dataset gtzan --epochs 20 --sched step --step-size 7 --gpu --num-classes 10 --audio-length 240000 \\\n",
        " --dashboard --samples --url $URL --save-model"
      ],
      "metadata": {
        "colab": {
          "base_uri": "https://localhost:8080/"
        },
        "id": "BhN96bEcVmmI",
        "outputId": "da65f9c6-1c2b-4706-eab3-5425695808fe"
      },
      "execution_count": 28,
      "outputs": [
        {
          "output_type": "stream",
          "name": "stdout",
          "text": [
            "Using GPU for training\n",
            "Preparing Dashboard Logger\n",
            "Start Training ...\n",
            "  0% 0/20 [00:00<?, ?it/s]epoch: 0, train_loss: 11.994218809264046, train_acc: 12.87%, test_loss: 3.207434892654419, test_acc: 15.86%\n",
            "  5% 1/20 [00:09<02:56,  9.27s/it]epoch: 1, train_loss: 5.775771004813058, train_acc: 19.86%, test_loss: 4.311484956741333, test_acc: 20.34%\n",
            " 10% 2/20 [00:18<02:46,  9.27s/it]epoch: 2, train_loss: 4.297290912696293, train_acc: 22.35%, test_loss: 8.209089040756226, test_acc: 18.28%\n",
            " 15% 3/20 [00:27<02:36,  9.20s/it]epoch: 3, train_loss: 4.6162126915795465, train_acc: 24.83%, test_loss: 4.610758793354035, test_acc: 24.14%\n",
            " 20% 4/20 [00:37<02:29,  9.33s/it]epoch: 4, train_loss: 3.662885461534773, train_acc: 22.35%, test_loss: 4.771879529953003, test_acc: 23.10%\n",
            " 25% 5/20 [00:46<02:19,  9.33s/it]epoch: 5, train_loss: 2.665129618985312, train_acc: 30.93%, test_loss: 2.190693938732147, test_acc: 32.41%\n",
            " 30% 6/20 [00:55<02:10,  9.29s/it]epoch: 6, train_loss: 2.1523973601205006, train_acc: 35.44%, test_loss: 2.1378586769104, test_acc: 26.90%\n",
            " 35% 7/20 [01:04<02:00,  9.24s/it]epoch: 7, train_loss: 1.666121244430542, train_acc: 43.57%, test_loss: 1.8886719822883606, test_acc: 37.93%\n",
            " 40% 8/20 [01:14<01:50,  9.22s/it]epoch: 8, train_loss: 1.3653970786503382, train_acc: 50.34%, test_loss: 1.8513028860092162, test_acc: 37.59%\n",
            " 45% 9/20 [01:23<01:41,  9.19s/it]epoch: 9, train_loss: 1.4001413328307015, train_acc: 50.11%, test_loss: 1.7164129853248595, test_acc: 40.34%\n",
            " 50% 10/20 [01:32<01:31,  9.17s/it]epoch: 10, train_loss: 1.307493235383715, train_acc: 53.50%, test_loss: 1.7334728598594666, test_acc: 38.62%\n",
            " 55% 11/20 [01:41<01:22,  9.16s/it]epoch: 11, train_loss: 1.2712652427809579, train_acc: 55.08%, test_loss: 1.7224783182144165, test_acc: 40.34%\n",
            " 60% 12/20 [01:50<01:13,  9.16s/it]epoch: 12, train_loss: 1.2052540736539024, train_acc: 56.88%, test_loss: 1.6391351819038391, test_acc: 42.07%\n",
            " 65% 13/20 [01:59<01:03,  9.13s/it]epoch: 13, train_loss: 1.2446242570877075, train_acc: 56.66%, test_loss: 2.0832727432250975, test_acc: 41.72%\n",
            " 70% 14/20 [02:08<00:55,  9.17s/it]epoch: 14, train_loss: 1.1510165759495325, train_acc: 60.72%, test_loss: 1.8302155494689942, test_acc: 42.07%\n",
            " 75% 15/20 [02:17<00:45,  9.14s/it]epoch: 15, train_loss: 1.1770748325756617, train_acc: 58.92%, test_loss: 1.6707252860069275, test_acc: 41.03%\n",
            " 80% 16/20 [02:27<00:36,  9.14s/it]epoch: 16, train_loss: 1.1629564123494285, train_acc: 59.59%, test_loss: 1.7677157759666442, test_acc: 43.45%\n",
            " 85% 17/20 [02:36<00:27,  9.12s/it]epoch: 17, train_loss: 1.1619696702275957, train_acc: 59.37%, test_loss: 1.724169874191284, test_acc: 42.41%\n",
            " 90% 18/20 [02:45<00:18,  9.11s/it]epoch: 18, train_loss: 1.1701489431517464, train_acc: 59.14%, test_loss: 1.7273618817329406, test_acc: 42.07%\n",
            " 95% 19/20 [02:54<00:09,  9.10s/it]epoch: 19, train_loss: 1.1869714983872004, train_acc: 57.56%, test_loss: 1.661685848236084, test_acc: 44.14%\n",
            "100% 20/20 [03:03<00:00,  9.18s/it]\n",
            "Saving model ...\n",
            "Generating Sample Images Test\n"
          ]
        }
      ]
    },
    {
      "cell_type": "code",
      "source": [
        "!python3 train.py --dataset gtzan --epochs 10 --sched step --step-size 5 --gpu --num-classes 10 --audio-length 240000 \\\n",
        " --dashboard --samples --url $URL --save-model --model simple_general_resnet"
      ],
      "metadata": {
        "colab": {
          "base_uri": "https://localhost:8080/"
        },
        "id": "uZoioL7pY23t",
        "outputId": "04f0b289-2d8c-40eb-a292-7f251b1fe538"
      },
      "execution_count": 29,
      "outputs": [
        {
          "output_type": "stream",
          "name": "stdout",
          "text": [
            "Using GPU for training\n",
            "Preparing Dashboard Logger\n",
            "Start Training ...\n",
            "  0% 0/10 [00:00<?, ?it/s]epoch: 0, train_loss: 11.499939220292228, train_acc: 16.03%, test_loss: 2.4974831461906435, test_acc: 11.38%\n",
            " 10% 1/10 [00:09<01:29,  9.92s/it]epoch: 1, train_loss: 2.7441238505499705, train_acc: 22.12%, test_loss: 2.224853038787842, test_acc: 17.93%\n",
            " 20% 2/10 [00:19<01:18,  9.87s/it]epoch: 2, train_loss: 2.247788190841675, train_acc: 31.38%, test_loss: 2.1205413937568665, test_acc: 28.28%\n",
            " 30% 3/10 [00:29<01:08,  9.84s/it]epoch: 3, train_loss: 2.125012057168143, train_acc: 35.21%, test_loss: 5.787711906433105, test_acc: 21.72%\n",
            " 40% 4/10 [00:39<00:58,  9.80s/it]epoch: 4, train_loss: 1.8082685300282069, train_acc: 34.09%, test_loss: 3.1276094555854796, test_acc: 30.34%\n",
            " 50% 5/10 [00:49<00:49,  9.82s/it]epoch: 5, train_loss: 1.5063468558447701, train_acc: 48.53%, test_loss: 1.9345555782318116, test_acc: 37.59%\n",
            " 60% 6/10 [00:58<00:39,  9.79s/it]epoch: 6, train_loss: 1.314389637538365, train_acc: 53.72%, test_loss: 1.7161987662315368, test_acc: 42.76%\n",
            " 70% 7/10 [01:08<00:29,  9.78s/it]epoch: 7, train_loss: 1.2338761304106032, train_acc: 58.01%, test_loss: 1.8081421494483947, test_acc: 44.48%\n",
            " 80% 8/10 [01:18<00:19,  9.80s/it]epoch: 8, train_loss: 1.1536144018173218, train_acc: 64.11%, test_loss: 1.6546212434768677, test_acc: 46.55%\n",
            " 90% 9/10 [01:28<00:09,  9.86s/it]epoch: 9, train_loss: 1.1165146827697754, train_acc: 62.08%, test_loss: 1.7213717937469482, test_acc: 46.21%\n",
            "100% 10/10 [01:38<00:00,  9.84s/it]\n",
            "Saving model ...\n",
            "Generating Sample Images Test\n"
          ]
        }
      ]
    },
    {
      "cell_type": "code",
      "source": [
        "!python3 train.py --dataset speechcommands --epochs 20 --sched step --step-size 7 --gpu --num-classes 35 --audio-length 16000 \\\n",
        " --dashboard --samples --url $URL --save-model"
      ],
      "metadata": {
        "colab": {
          "base_uri": "https://localhost:8080/"
        },
        "id": "tAaUfuLUXXKQ",
        "outputId": "ddae362f-b47a-4485-d6fb-65b401f25295"
      },
      "execution_count": 32,
      "outputs": [
        {
          "output_type": "stream",
          "name": "stdout",
          "text": [
            "Using GPU for training\n",
            "100% 2.26G/2.26G [00:23<00:00, 102MB/s] \n",
            "Preparing Dashboard Logger\n",
            "Start Training ...\n",
            "  0% 0/20 [00:00<?, ?it/s]epoch: 0, train_loss: 1.6055986007414254, train_acc: 55.64%, test_loss: 1.1278387158242769, test_acc: 66.33%\n",
            "  5% 1/20 [02:49<53:34, 169.18s/it]epoch: 1, train_loss: 0.6327059783299944, train_acc: 81.03%, test_loss: 0.5145053870889337, test_acc: 84.49%\n",
            " 10% 2/20 [04:39<40:21, 134.54s/it]epoch: 2, train_loss: 0.46518160571761397, train_acc: 85.92%, test_loss: 0.5355660479819012, test_acc: 83.85%\n",
            " 15% 3/20 [06:19<33:37, 118.65s/it]epoch: 3, train_loss: 0.3877409913346767, train_acc: 88.07%, test_loss: 0.8245458680876466, test_acc: 77.49%\n",
            " 20% 4/20 [07:58<29:37, 111.11s/it]epoch: 4, train_loss: 0.3370602828391503, train_acc: 89.67%, test_loss: 0.48107315034627224, test_acc: 85.59%\n",
            " 25% 5/20 [09:37<26:42, 106.81s/it]epoch: 5, train_loss: 0.29690030391530314, train_acc: 90.78%, test_loss: 0.36539912129600727, test_acc: 89.00%\n",
            " 30% 6/20 [11:16<24:18, 104.17s/it]epoch: 6, train_loss: 0.26569845424357486, train_acc: 91.72%, test_loss: 0.39408327928246106, test_acc: 88.50%\n",
            " 35% 7/20 [12:55<22:11, 102.45s/it]epoch: 7, train_loss: 0.17015515946350124, train_acc: 94.88%, test_loss: 0.28223134881307826, test_acc: 91.76%\n",
            " 40% 8/20 [14:34<20:13, 101.17s/it]epoch: 8, train_loss: 0.14883330881904297, train_acc: 95.65%, test_loss: 0.273461629712391, test_acc: 92.00%\n",
            " 45% 9/20 [16:12<18:23, 100.33s/it]epoch: 9, train_loss: 0.14013472677497854, train_acc: 95.89%, test_loss: 0.280199718650777, test_acc: 92.01%\n",
            " 50% 10/20 [17:51<16:38, 99.80s/it]epoch: 10, train_loss: 0.13358814156102228, train_acc: 96.06%, test_loss: 0.27765237643697493, test_acc: 92.16%\n",
            " 55% 11/20 [19:29<14:53, 99.31s/it]epoch: 11, train_loss: 0.12686481827421908, train_acc: 96.28%, test_loss: 0.27535271013512946, test_acc: 92.12%\n",
            " 60% 12/20 [21:08<13:12, 99.03s/it]epoch: 12, train_loss: 0.12203518443629054, train_acc: 96.39%, test_loss: 0.2841400498115501, test_acc: 91.92%\n",
            " 65% 13/20 [22:46<11:31, 98.83s/it]epoch: 13, train_loss: 0.11764332472056475, train_acc: 96.57%, test_loss: 0.28176171751557527, test_acc: 92.00%\n",
            " 70% 14/20 [24:24<09:51, 98.65s/it]epoch: 14, train_loss: 0.10899643441904505, train_acc: 96.86%, test_loss: 0.2851504881102808, test_acc: 92.22%\n",
            " 75% 15/20 [26:02<08:12, 98.49s/it]epoch: 15, train_loss: 0.1078486839346384, train_acc: 96.87%, test_loss: 0.27320740269233074, test_acc: 92.15%\n",
            " 80% 16/20 [27:40<06:33, 98.37s/it]epoch: 16, train_loss: 0.10638577367237391, train_acc: 96.99%, test_loss: 0.2763698592235139, test_acc: 92.27%\n",
            " 85% 17/20 [29:18<04:54, 98.27s/it]epoch: 17, train_loss: 0.10689258710105028, train_acc: 96.95%, test_loss: 0.2795558397679828, test_acc: 92.25%\n",
            " 90% 18/20 [30:56<03:16, 98.03s/it]epoch: 18, train_loss: 0.10632162745268545, train_acc: 96.95%, test_loss: 0.2760841970996617, test_acc: 92.25%\n",
            " 95% 19/20 [32:34<01:37, 97.95s/it]epoch: 19, train_loss: 0.1053714826775941, train_acc: 97.00%, test_loss: 0.29023672715046034, test_acc: 91.91%\n",
            "100% 20/20 [34:11<00:00, 102.59s/it]\n",
            "Saving model ...\n",
            "Generating Sample Images Test\n"
          ]
        }
      ]
    }
  ]
}